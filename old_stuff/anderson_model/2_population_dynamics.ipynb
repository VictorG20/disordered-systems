{
 "cells": [
  {
   "cell_type": "markdown",
   "id": "d8cba0ee",
   "metadata": {},
   "source": [
    "# Population Dynamics\n",
    "\n",
    "## Algorithm\n",
    "\n",
    "### 1. Obtain an equilibrated population for the cavity precisions\n",
    "\n",
    "1. Start a random complex initial population $\\hat{P} = (\\omega_{1}, \\dots, \\omega_{N_{p}})$.\n",
    "2. Performing at most `max_iter` iterations, for each iteration do:\n",
    "    1. Pick "
   ]
  },
  {
   "cell_type": "markdown",
   "id": "cbfd7e44",
   "metadata": {},
   "source": [
    "1. Set: \n",
    "    1. Population size $N_{p}$, \n",
    "    1. Mean connectivity $c$, \n",
    "    1. Disorder $W$,\n",
    "    1. Epsilon $\\epsilon$, \n",
    "    1. Eigenvalue $\\lambda$,\n",
    "    1. Maximum number of iterations.\n",
    "    1. Maximum absolute change.\n",
    "\n",
    "1. Create an initial complex population of cavity precisions $\\hat{P} = (\\omega_{1}, \\dots, \\omega_{N_{p}})$.\n",
    "\n",
    "1. Pick $c - 1$ random elements $\\left\\{ \\omega_{\\ell} \\right\\}$ from $\\hat{P}$ and sample $E$ from $\\rho(E)$:\n",
    "    \\begin{equation}\n",
    "        \\rho(E) = \\frac{1}{W} \\Theta\\left(\\frac{W}{2} - \\lvert E \\rvert \\right)\n",
    "    \\end{equation}\n",
    "    \n",
    "1. Replace a random element of the population with\n",
    "    \\begin{equation}\n",
    "        i(\\lambda - i \\epsilon - E) + \\sum_{\\ell = 1}^{c-1} \\frac{1}{\\omega_{\\ell}}\n",
    "    \\end{equation}\n",
    "\n",
    "1. Repeat the two previous steps until equilibrium is reached (changes are 'consistently' below tolerance)"
   ]
  },
  {
   "cell_type": "code",
   "execution_count": 1,
   "id": "27583962",
   "metadata": {},
   "outputs": [],
   "source": [
    "using ProgressMeter\n",
    "using Distributions\n",
    "using Random"
   ]
  },
  {
   "cell_type": "markdown",
   "id": "c428403f",
   "metadata": {},
   "source": [
    "## Create an equilibrated population of cavity precisions"
   ]
  },
  {
   "cell_type": "code",
   "execution_count": 2,
   "id": "c43967d3",
   "metadata": {
    "scrolled": true
   },
   "outputs": [],
   "source": [
    "Random.seed!(42)\n",
    "\n",
    "Np = 10^3  # Population size.\n",
    "c = 3  # Mean connectivity.\n",
    "W = 0.3\n",
    "ϵ = 1e-3\n",
    "λ = 0.\n",
    "\n",
    "tolerance = 1e-6\n",
    "max_iters = 100*Np\n",
    "\n",
    "cavity_ω = rand(Complex{Float64}, Np);\n",
    "\n",
    "counter = 0\n",
    "ω_average = 0\n",
    "\n",
    "final_Δω = 0\n",
    "\n",
    "for iteration in 1:max_iters\n",
    "    # Last index gives the cavity precision that will be changed.\n",
    "    rand_ids = sample(1:Np, c; replace=false)\n",
    "    chosen_ω = cavity_ω[rand_ids[1:end-1]]\n",
    "    \n",
    "    idx = rand_ids[end]\n",
    "    \n",
    "    E = rand(Uniform(-W/2., W/2.))\n",
    "    \n",
    "    old_ω = cavity_ω[idx]\n",
    "    new_ω = im*(λ - im*ϵ - E) + sum(1 ./ chosen_ω)\n",
    "    Δω = abs(new_ω - old_ω)\n",
    "    \n",
    "    cavity_ω[idx] = new_ω\n",
    "    \n",
    "    (Δω < tolerance) && println(iteration) && break\n",
    "    \n",
    "    counter += 1\n",
    "    \n",
    "    if counter == 100\n",
    "        new_average = sum(cavity_ω)\n",
    "        \n",
    "        Δω = (new_average - ω_average) / Np\n",
    "        \n",
    "        Δω_real = abs(real(Δω))\n",
    "        Δω_imag = abs(imag(Δω))\n",
    "        \n",
    "        max_Δω = max(Δω_real, Δω_imag)\n",
    "        \n",
    "#         println(\"Maximum change after $(iteration) iterations: $(max_Δω)\")\n",
    "        \n",
    "        ω_average = new_average\n",
    "        \n",
    "        final_Δω = max_Δω\n",
    "        \n",
    "        counter = 0\n",
    "    end\n",
    "end"
   ]
  },
  {
   "cell_type": "markdown",
   "id": "d20efa8d",
   "metadata": {},
   "source": [
    "## Sample marginal precisions and measure spectral density"
   ]
  },
  {
   "cell_type": "code",
   "execution_count": null,
   "id": "6cef193f",
   "metadata": {
    "scrolled": false
   },
   "outputs": [],
   "source": [
    "Random.seed!(42)\n",
    "\n",
    "N = 2^10  # Sample N values for the marginal precisions.\n",
    "\n",
    "marginal_ω = []\n",
    "\n",
    "\n",
    "function update_cavity_ω!(cavity_ω)\n",
    "    # Last index gives the cavity precision that will be changed.\n",
    "    rand_ids = sample(1:Np, c; replace=false)\n",
    "    chosen_ω = cavity_ω[rand_ids[1:end-1]]\n",
    "    \n",
    "    idx = rand_ids[end]\n",
    "    \n",
    "    E = rand(Uniform(-W/2., W/2.))\n",
    "    \n",
    "    cavity_ω[idx] = im*(λ - im*ϵ - E) + sum(1 ./ chosen_ω)\n",
    "    \n",
    "    return \n",
    "end\n",
    "\n",
    "\n",
    "for k in 1:N\n",
    "    \n",
    "    # Pick 'c' random elements from Peq...\n",
    "    rand_ids = sample(1:Np, c; replace=false)\n",
    "    chosen_ω = cavity_ω[rand_ids]\n",
    "    \n",
    "    # ...and sample E from ρ(E).\n",
    "    E = rand(Uniform(-W/2., W/2.))\n",
    "    \n",
    "    # Generate a sample from Ω ∼ P(Ω)\n",
    "    ω = im*(λ - im*ϵ - E) + sum(1 ./ chosen_ω)\n",
    "    \n",
    "    push!(marginal_ω, ω)\n",
    "    \n",
    "    # Update one random element from Peq.\n",
    "    update_cavity_ω!(cavity_ω)\n",
    "    \n",
    "end"
   ]
  },
  {
   "cell_type": "code",
   "execution_count": null,
   "id": "b196ed27",
   "metadata": {},
   "outputs": [],
   "source": [
    "sum(imag.(im ./ marginal_ω)) / (π * N)"
   ]
  }
 ],
 "metadata": {
  "@webio": {
   "lastCommId": null,
   "lastKernelId": null
  },
  "kernelspec": {
   "display_name": "Julia 1.10.5",
   "language": "julia",
   "name": "julia-1.10"
  },
  "language_info": {
   "file_extension": ".jl",
   "mimetype": "application/julia",
   "name": "julia",
   "version": "1.10.5"
  }
 },
 "nbformat": 4,
 "nbformat_minor": 5
}
