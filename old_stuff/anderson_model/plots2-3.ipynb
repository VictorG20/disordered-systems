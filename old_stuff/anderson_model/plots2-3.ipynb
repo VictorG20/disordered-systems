{
 "cells": [
  {
   "cell_type": "code",
   "execution_count": 5,
   "metadata": {},
   "outputs": [],
   "source": [
    "include(\"PopulationDynamics.jl\")\n",
    "# using .PopulationDynamics\n",
    "using Random\n",
    "using Plots"
   ]
  },
  {
   "cell_type": "code",
   "execution_count": 6,
   "metadata": {},
   "outputs": [
    {
     "ename": "LoadError",
     "evalue": "MethodError: no method matching spectraldensity(::Int64, ::Int64, ::Int64, ::Float64, ::Float64, ::Int64, ::StepRangeLen{Float64, Base.TwicePrecision{Float64}, Base.TwicePrecision{Float64}, Int64})\n\n\u001b[0mClosest candidates are:\n\u001b[0m  spectraldensity(\u001b[91m::PDSystem\u001b[39m, ::Any; fix_seed)\n\u001b[0m\u001b[90m   @\u001b[39m \u001b[35mMain\u001b[39m \u001b[90m~/Documents/Master_Physics/Advanced Computational Physics/disordered-systems/old_stuff/anderson_model/\u001b[39m\u001b[90m\u001b[4mPopulationDynamics.jl:58\u001b[24m\u001b[39m\n",
     "output_type": "error",
     "traceback": [
      "MethodError: no method matching spectraldensity(::Int64, ::Int64, ::Int64, ::Float64, ::Float64, ::Int64, ::StepRangeLen{Float64, Base.TwicePrecision{Float64}, Base.TwicePrecision{Float64}, Int64})\n\n\u001b[0mClosest candidates are:\n\u001b[0m  spectraldensity(\u001b[91m::PDSystem\u001b[39m, ::Any; fix_seed)\n\u001b[0m\u001b[90m   @\u001b[39m \u001b[35mMain\u001b[39m \u001b[90m~/Documents/Master_Physics/Advanced Computational Physics/disordered-systems/old_stuff/anderson_model/\u001b[39m\u001b[90m\u001b[4mPopulationDynamics.jl:58\u001b[24m\u001b[39m\n",
      "",
      "Stacktrace:",
      " [1] top-level scope",
      "   @ In[6]:13"
     ]
    }
   ],
   "source": [
    "Random.seed!(42)  # Fix the seed for reproducibility.\n",
    "\n",
    "# General parameters\n",
    "c = 3  # Mean connectivity.\n",
    "ϵ = 1e-3\n",
    "W = 0.3  # Disorder\n",
    "\n",
    "# Population-dynamics-only parameters.\n",
    "sample_size = 100  # Sample size of the marginal precisions.\n",
    "Np = 10^3  # Size of the population.\n",
    "max_sweeps = 50\n",
    "\n",
    "λ_values = range(0., 3., length=150)\n",
    "# λ_values = [0.]\n",
    "\n",
    "ρ_values = spectraldensity(sample_size, Np, c, ϵ, W, max_sweeps, λ_values);"
   ]
  },
  {
   "cell_type": "code",
   "execution_count": null,
   "metadata": {},
   "outputs": [],
   "source": [
    "function reflect_at_zero(values_vector:: Vector{Float64}, start_at_zero:: Bool = false)\n",
    "    trailing_values = start_at_zero ? values_vector[2:end] : values_vector\n",
    "\n",
    "    new_values_vector = reverse(trailing_values)\n",
    "    append!(new_values_vector, values_vector)\n",
    "\n",
    "    return new_values_vector\n",
    "end"
   ]
  },
  {
   "cell_type": "code",
   "execution_count": null,
   "metadata": {},
   "outputs": [],
   "source": [
    "spectral_density = reflect_at_zero(ρ_values, true)\n",
    "plot_λ_values = [-λ for λ in reverse(λ_values[2:end])]\n",
    "append!(plot_λ_values, λ_values[1:end]);"
   ]
  },
  {
   "cell_type": "code",
   "execution_count": null,
   "metadata": {},
   "outputs": [],
   "source": [
    "plot(plot_λ_values, spectral_density, display=true)"
   ]
  }
 ],
 "metadata": {
  "@webio": {
   "lastCommId": null,
   "lastKernelId": null
  },
  "kernelspec": {
   "display_name": "Julia 1.10.5",
   "language": "julia",
   "name": "julia-1.10"
  },
  "language_info": {
   "file_extension": ".jl",
   "mimetype": "application/julia",
   "name": "julia",
   "version": "1.10.5"
  }
 },
 "nbformat": 4,
 "nbformat_minor": 2
}
